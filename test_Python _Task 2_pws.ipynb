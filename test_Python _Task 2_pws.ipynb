{
 "cells": [
  {
   "cell_type": "markdown",
   "id": "865384d0",
   "metadata": {},
   "source": [
    "# Q1. You are writing code for a company. The requirement of the company is that you create a python function that will check whether the password entered by the user is correct or not. The function should take the password as input and return the string “Valid Password” if the entered password follows the below-given password guidelines else it should return “Invalid Password”.\n",
    "\n",
    "\n",
    "###### Note: 1. The Password should contain at least two uppercase letters and at least two lowercase letters.\n",
    "###### 2. The Password should contain at least a number and three special characters.\n",
    "###### 3. The length of the password should be 10 characters long."
   ]
  },
  {
   "cell_type": "code",
   "execution_count": 155,
   "id": "29fa4b83",
   "metadata": {},
   "outputs": [
    {
     "name": "stdout",
     "output_type": "stream",
     "text": [
      "Enter a password: $$$$$$$$$$$$$KunTTTTTaaaaa1\n",
      "Valid Password\n"
     ]
    }
   ],
   "source": [
    "import re # importing re\n",
    "import string # importing string\n",
    "\n",
    "\n",
    "def validate_password(): # defining the function\n",
    "    \"\"\"Validation for A Given PassWord \"\"\" # doc sring\n",
    "    punct=string.punctuation # making a list of all special chr\n",
    "    \n",
    "    while True: # starting the while loop\n",
    "        password = input(\"Enter a password: \") # getting thr pass word \n",
    "        if len(password) < 10: # making the logic to accept minimum 10 len pass word \n",
    "            print(\"Invalid Password\") \n",
    "            \n",
    "        elif re.search('[0-9]',password) is None: # Should contain atlest 1 igit\n",
    "            print(\"Invalid Password\")\n",
    "        \n",
    "        elif len(re.findall('[A-Z]',password)) <2: # should contain atlest 2 cap letter\n",
    "            print(\"Invalid Password\")\n",
    "            \n",
    "        elif len(re.findall('[a-z]',password) )<2: # should contain atleast 2 small letter\n",
    "            print(\"Invalid Password\")\n",
    "            \n",
    "        elif len([i for i in password if i in punct])<3: # should contain atleast 3 spl letter\n",
    "             print(\"Invalid Password\")\n",
    "            \n",
    "        \n",
    "        else:\n",
    "            print(\"Valid Password\") \n",
    "            break # break the loop\n",
    "            \n",
    "            \n",
    "            \n",
    "            \n",
    "#check the functiom\n",
    "validate_password()"
   ]
  },
  {
   "cell_type": "markdown",
   "id": "9dddd5c4",
   "metadata": {},
   "source": [
    "Q2. Solve the below-given questions using at least one of the following:\n",
    "1. Lambda functioJ\n",
    "2. Filter functioJ\n",
    "3. Map functioJ\n",
    "4. List ComprehensioI\n",
    "##### B Check if the string starts with a particular letter \n",
    "##### B Check if the string is numeric\n",
    "##### B Sort a list of tuples having fruit names and their quantity. [(\"mango\",99),(\"orange\",80), (\"grapes\", 1000)-\n",
    "##### B Find the squares of numbers from 1 to 10\n",
    "##### B Find the cube root of numbers from 1 to 10\n",
    "##### B Check if a given number is even\n",
    "###### B Filter odd numbers from the given list.\n",
    "[1,2,3,4,5,6,7,8,9,10]\n",
    "###### B Sort a list of integers into positive and negative integers lists.\n",
    "[1,2,3,4,5,6,-1,-2,-3,-4,-5,0]"
   ]
  },
  {
   "cell_type": "code",
   "execution_count": 89,
   "id": "d143b552",
   "metadata": {},
   "outputs": [
    {
     "data": {
      "text/plain": [
       "True"
      ]
     },
     "execution_count": 89,
     "metadata": {},
     "output_type": "execute_result"
    }
   ],
   "source": [
    "#B Check if the string starts with a particular letter\n",
    "\n",
    "text= \"Pwskills\"\n",
    "\n",
    "# checking if the word \"Pwskills\" has starts with a particular letter P \n",
    "\n",
    "filter_P_words=map(lambda x: x[0]==\"P\", text)\n",
    "next(filter_words)\n"
   ]
  },
  {
   "cell_type": "code",
   "execution_count": 91,
   "id": "24228f72",
   "metadata": {},
   "outputs": [
    {
     "data": {
      "text/plain": [
       "False"
      ]
     },
     "execution_count": 91,
     "metadata": {},
     "output_type": "execute_result"
    }
   ],
   "source": [
    "#cheking with diffrent word same function\n",
    "text1= \"UpGrad\"\n",
    "filter_words=map(lambda x: x[0]==\"P\", text1)\n",
    "next(filter_words)"
   ]
  },
  {
   "cell_type": "code",
   "execution_count": 94,
   "id": "593eb394",
   "metadata": {},
   "outputs": [
    {
     "name": "stdout",
     "output_type": "stream",
     "text": [
      "PomPom\n",
      "Pomotion\n"
     ]
    }
   ],
   "source": [
    "# checking with a list of string \n",
    "list1=[\"PomPom\", \"Pomotion\", \"Good\", \"Baad\"]\n",
    "filter_words_list=filter(lambda x: x[0]==\"P\", list1)\n",
    "for i in filter_words_list:\n",
    "    print(i)"
   ]
  },
  {
   "cell_type": "code",
   "execution_count": 92,
   "id": "d963bf59",
   "metadata": {},
   "outputs": [
    {
     "data": {
      "text/plain": [
       "True"
      ]
     },
     "execution_count": 92,
     "metadata": {},
     "output_type": "execute_result"
    }
   ],
   "source": [
    "# Check if the string is numeric¶\n",
    "\n",
    "text3=\"123456\"\n",
    "filter_number =map(lambda x: x.isdigit(), text3)\n",
    "next(filter_number)"
   ]
  },
  {
   "cell_type": "code",
   "execution_count": 95,
   "id": "c0316880",
   "metadata": {},
   "outputs": [
    {
     "name": "stdout",
     "output_type": "stream",
     "text": [
      "True\n",
      "False\n",
      "True\n",
      "False\n"
     ]
    }
   ],
   "source": [
    "# checking with a list of string\n",
    "list2=[\"1234\", \"a123\", \"223\", \"3234a\"]\n",
    "filter_number1 =map(lambda x: x.isdigit(), list2)\n",
    "for i in filter_number1:\n",
    "    print(i)\n"
   ]
  },
  {
   "cell_type": "code",
   "execution_count": 104,
   "id": "90b8647d",
   "metadata": {},
   "outputs": [
    {
     "name": "stdout",
     "output_type": "stream",
     "text": [
      "acending sort::::::\n",
      " [('orange', 80), ('mango', 99), ('grapes', 1000)] \n",
      "\n",
      "--------------------------------------------------------------------------------\n",
      "\n",
      "decending sort::::::\n",
      " [('grapes', 1000), ('mango', 99), ('orange', 80)]\n"
     ]
    }
   ],
   "source": [
    "#Sort a list of tuples having fruit names and their quantity. [(\"mango\",99),(\"orange\",80), (\"grapes\", 1000)]\n",
    "list3=[(\"mango\",99),(\"orange\",80), (\"grapes\", 1000)]\n",
    "\n",
    "print(\"acending sort::::::\\n\", sorted(list3, key=lambda x: x[1]), \"\\n\" )\n",
    "print(80*\"-\")\n",
    "print()\n",
    "print(\"decending sort::::::\\n\", sorted(list3, key=lambda x: x[1], reverse=True) )"
   ]
  },
  {
   "cell_type": "code",
   "execution_count": 105,
   "id": "c7cfca68",
   "metadata": {},
   "outputs": [
    {
     "data": {
      "text/plain": [
       "[1, 4, 9, 16, 25, 36, 49, 64, 81, 100]"
      ]
     },
     "execution_count": 105,
     "metadata": {},
     "output_type": "execute_result"
    }
   ],
   "source": [
    "#Find the squares of numbers from 1 to 10Y\n",
    "\n",
    "list4=[1,2,3,4,5,6,7,8,9,10] # get the list\n",
    "\n",
    "sql_list1=map(lambda x: x**2, list4) # make the logic\n",
    "\n",
    "[i for i in sql_list1] #print the final list"
   ]
  },
  {
   "cell_type": "code",
   "execution_count": 106,
   "id": "69addd68",
   "metadata": {},
   "outputs": [
    {
     "data": {
      "text/plain": [
       "[1, 8, 27, 64, 125, 216, 343, 512, 729, 1000]"
      ]
     },
     "execution_count": 106,
     "metadata": {},
     "output_type": "execute_result"
    }
   ],
   "source": [
    "# Find the cube root of numbers from 1 to 10\n",
    "\n",
    "sql_list2=map(lambda x: x**3, list4) # make the logic\n",
    "\n",
    "[i for i in sql_list2] #print the final list"
   ]
  },
  {
   "cell_type": "code",
   "execution_count": 137,
   "id": "8437126a",
   "metadata": {},
   "outputs": [
    {
     "name": "stdout",
     "output_type": "stream",
     "text": [
      "enter the number\n",
      "1\n",
      "\n",
      "1  is a  odd number\n"
     ]
    }
   ],
   "source": [
    "# Check if a given number is even\n",
    "\n",
    "n=[]\n",
    "num= int(input(\"enter the number\\n\")) #int(input(\"Enter the Number\"))\n",
    "print()\n",
    "n.append(num)\n",
    "x=map(lambda y: \"even\" if y%2==0 else \"odd\", n)\n",
    "\n",
    "for i in x:\n",
    "    print(num, \" is a \", i, \"number\")\n"
   ]
  },
  {
   "cell_type": "code",
   "execution_count": 141,
   "id": "1880f700",
   "metadata": {},
   "outputs": [
    {
     "name": "stdout",
     "output_type": "stream",
     "text": [
      "The Odd Numbers are:::\n"
     ]
    },
    {
     "data": {
      "text/plain": [
       "[1, 3, 5, 7, 9]"
      ]
     },
     "execution_count": 141,
     "metadata": {},
     "output_type": "execute_result"
    }
   ],
   "source": [
    "#B Filter odd numbers from the given list. [1,2,3,4,5,6,7,8,9,10]\n",
    "\n",
    "\n",
    "l10=[1,2,3,4,5,6,7,8,9,10]\n",
    "print(\"The Odd Numbers are:::\")\n",
    "[i for i in filter(lambda x: x%2 !=0, l10)]"
   ]
  },
  {
   "cell_type": "code",
   "execution_count": 154,
   "id": "1535091b",
   "metadata": {},
   "outputs": [
    {
     "name": "stdout",
     "output_type": "stream",
     "text": [
      "[0, 1, 2, 3, 4, 5, 6]\n",
      "[-5, -4, -3, -2, -1]\n"
     ]
    }
   ],
   "source": [
    "#B Sort a list of integers into positive and negative integers lists.[1,2,3,4,5,6,-1,-2,-3,-4,-5,0]\n",
    "\n",
    "\n",
    "\n",
    "def seperation():\n",
    "    list_x=[1,2,3,4,5,6,-1,-2,-3,-4,-5,0]\n",
    "    positive_num=sorted([i for i in filter(lambda x: x>=0, list_x)]) #filter the positive number\n",
    "    negative_num=sorted([i for i in filter(lambda x: x<0, list_x)]) #filter the negative number \n",
    "    \n",
    "    print(positive_num)\n",
    "    print(negative_num)\n",
    "seperation()"
   ]
  },
  {
   "cell_type": "code",
   "execution_count": null,
   "id": "c1f26155",
   "metadata": {},
   "outputs": [],
   "source": []
  }
 ],
 "metadata": {
  "kernelspec": {
   "display_name": "Python 3 (ipykernel)",
   "language": "python",
   "name": "python3"
  },
  "language_info": {
   "codemirror_mode": {
    "name": "ipython",
    "version": 3
   },
   "file_extension": ".py",
   "mimetype": "text/x-python",
   "name": "python",
   "nbconvert_exporter": "python",
   "pygments_lexer": "ipython3",
   "version": "3.9.13"
  }
 },
 "nbformat": 4,
 "nbformat_minor": 5
}
